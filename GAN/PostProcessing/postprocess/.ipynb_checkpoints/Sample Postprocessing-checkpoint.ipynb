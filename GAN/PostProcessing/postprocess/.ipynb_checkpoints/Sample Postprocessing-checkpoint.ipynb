{
 "cells": [
  {
   "cell_type": "code",
   "execution_count": 1,
   "metadata": {},
   "outputs": [
    {
     "name": "stderr",
     "output_type": "stream",
     "text": [
      "<frozen importlib._bootstrap>:219: FutureWarning: Passing (type, 1) or '1type' as a synonym of type is deprecated; in a future version of numpy, it will be understood as (type, (1,)) / '(1,)type'.\n"
     ]
    }
   ],
   "source": [
    "import numpy as np\n",
    "import h5py\n",
    "import tifffile\n",
    "from scipy.ndimage.filters import median_filter\n",
    "from skimage.filters import threshold_otsu\n",
    "from collections import Counter\n",
    "import os\n",
    "\n",
    "from stl import mesh\n",
    "from mpl_toolkits import mplot3d\n",
    "from matplotlib import pyplot\n",
    "from stl import mesh"
   ]
  },
  {
   "cell_type": "markdown",
   "metadata": {},
   "source": [
    "## Processing of a single image"
   ]
  },
  {
   "cell_type": "markdown",
   "metadata": {},
   "source": [
    "## Loading the HDF5 file and converting to tiff"
   ]
  },
  {
   "cell_type": "code",
   "execution_count": 2,
   "metadata": {
    "jupyter": {
     "outputs_hidden": false
    },
    "scrolled": true
   },
   "outputs": [
    {
     "name": "stdout",
     "output_type": "stream",
     "text": [
      "(64, 64, 64)\n",
      "(64, 64, 64)\n"
     ]
    },
    {
     "data": {
      "text/plain": [
       "'\\nfor filename in (soil_2):\\n    f = h5py.File(\\'/media/selene/Elements/Finalprogramme/code/pytorch/soil_2/\\'+filename, \\'r\\')\\n    my_array = f[\\'data\\'][()]\\n    #img = my_array[0, 0, :, :, :].astype(np.float32)\\n    output_filename = filename.replace(\".hdf5\",\".tif\")\\n    tifffile.imsave(\\'/media/selene/Elements/Finalprogramme/code/pytorch/soil_2_tif/\\'+output_filename, my_array)\\n    #print(\"Done converting {0} -> {1}\".format(filename, output_filename))\\nprint(my_array.shape)\\n\\nfor filename in (berea_samples):\\n    f = h5py.File(\\'/media/selene/Elements/Finalprogramme/code/pytorch/berea_results/fake_samples/\\'+filename, \\'r\\')\\n    my_array = f[\\'data\\'][()]\\n    img = my_array[0, 0, :, :, :].astype(np.float32)\\n    output_filename = filename.replace(\".hdf5\",\".tif\")\\n    tifffile.imsave(\\'/media/selene/Elements/Finalprogramme/code/pytorch/berea_results/berea_tif/\\'+output_filename, img)\\n    #print(\"Done converting {0} -> {1}\".format(filename, output_filename))\\nprint(img.shape)\\n'"
      ]
     },
     "execution_count": 2,
     "metadata": {},
     "output_type": "execute_result"
    }
   ],
   "source": [
    "#fake_TI = os.listdir(\"/media/selene/Elements/Finalprogramme/code/pytorch/sand2_results/fake_TI\")\n",
    "#fake_samples = os.listdir(\"/media/selene/Elements/Finalprogramme/code/pytorch/sand2_results/fake_samples\")\n",
    "sand_2 = os.listdir(\"/media/selene/Elements/Finalprogramme/code/pytorch/sand_2\")\n",
    "#soil_2 = os.listdir(\"/media/selene/Elements/Finalprogramme/code/pytorch/soil_2\")\n",
    "#berea_samples = os.listdir(\"/media/selene/Elements/Finalprogramme/code/pyto rch/berea_results/fake_samples\")\n",
    "'''\n",
    "for filename in (fake_TI):\n",
    "    f = h5py.File('/media/selene/Elements/Finalprogramme/code/pytorch/sand2_results/fake_TI/'+filename, 'r')\n",
    "    my_array = f['data'][()]\n",
    "    img = my_array[0, 0, :, :, :].astype(np.float32)\n",
    "    output_filename = filename.replace(\".hdf5\",\".tif\")\n",
    "    tifffile.imsave('/media/selene/Elements/Finalprogramme/code/pytorch/sand2_results/TI_tif/'+output_filename, img)\n",
    "    #print(\"Done converting {0} -> {1}\".format(filename, output_filename))\n",
    "print(img.shape)\n",
    "\n",
    "for filename in (fake_samples):\n",
    "    f = h5py.File('/media/selene/Elements/Finalprogramme/code/pytorch/sand2_results/fake_samples/'+filename, 'r')\n",
    "    my_array = f['data'][()]\n",
    "    img = my_array[0, 0, :, :, :].astype(np.float32)\n",
    "    output_filename = filename.replace(\".hdf5\",\".tif\")\n",
    "    tifffile.imsave('/media/selene/Elements/Finalprogramme/code/pytorch/sand2_results/samples_tif/'+output_filename, img)\n",
    "    #print(\"Done converting {0} -> {1}\".format(filename, output_filename))\n",
    "print(img.shape)\n",
    "\n",
    "for filename in (sand_2):\n",
    "    f = h5py.File('/media/selene/Elements/Finalprogramme/code/pytorch/sand_2/'+filename, 'r')\n",
    "    my_array = f['data'][()]\n",
    "    #img = my_array[0, 0, :, :, :].astype(np.float32)\n",
    "    output_filename = filename.replace(\".hdf5\",\".tif\")\n",
    "    tifffile.imsave('/media/selene/Elements/Finalprogramme/code/pytorch/sand_2_tif/'+output_filename, my_array)\n",
    "    #print(\"Done converting {0} -> {1}\".format(filename, output_filename))\n",
    "print(my_array.shape)\n",
    "\n",
    "for filename in (soil_2):\n",
    "    f = h5py.File('/media/selene/Elements/Finalprogramme/code/pytorch/soil_2/'+filename, 'r')\n",
    "    my_array = f['data'][()]\n",
    "    #img = my_array[0, 0, :, :, :].astype(np.float32)\n",
    "    output_filename = filename.replace(\".hdf5\",\".tif\")\n",
    "    tifffile.imsave('/media/selene/Elements/Finalprogramme/code/pytorch/soil_2_tif/'+output_filename, my_array)\n",
    "    #print(\"Done converting {0} -> {1}\".format(filename, output_filename))\n",
    "print(my_array.shape)\n",
    "\n",
    "for filename in (berea_samples):\n",
    "    f = h5py.File('/media/selene/Elements/Finalprogramme/code/pytorch/berea_results/fake_samples/'+filename, 'r')\n",
    "    my_array = f['data'][()]\n",
    "    img = my_array[0, 0, :, :, :].astype(np.float32)\n",
    "    output_filename = filename.replace(\".hdf5\",\".tif\")\n",
    "    tifffile.imsave('/media/selene/Elements/Finalprogramme/code/pytorch/berea_results/berea_tif/'+output_filename, img)\n",
    "    #print(\"Done converting {0} -> {1}\".format(filename, output_filename))\n",
    "print(img.shape)\n",
    "'''"
   ]
  },
  {
   "cell_type": "markdown",
   "metadata": {},
   "source": [
    "## Denoising and thresholding"
   ]
  },
  {
   "cell_type": "code",
   "execution_count": 2,
   "metadata": {
    "jupyter": {
     "outputs_hidden": false
    }
   },
   "outputs": [
    {
     "name": "stdout",
     "output_type": "stream",
     "text": [
      "(64, 64, 64)\n"
     ]
    }
   ],
   "source": [
    "samples_tif = os.listdir(\"/media/selene/Elements/Finalprogramme/code/pytorch/sand2_results/TI_tif/\")\n",
    "for filename in (samples_tif):\n",
    "    im_in = tifffile.imread('/media/selene/Elements/Finalprogramme/code/pytorch/sand2_results/TI_tif/'+filename)\n",
    "    #print(im_in.shape)\n",
    "    #apply single pixel denoising\n",
    "    im_in = median_filter(im_in, size=(5, 5, 5))\n",
    "    #cutaway outer noise area\n",
    "    #im_in = im_in[96:160, 96:160, 96:160]\n",
    "    #Normalize to range zero and one\n",
    "    im_in = im_in/255.\n",
    "    #Threshhold Image\n",
    "    threshold_global_otsu = threshold_otsu(im_in)\n",
    "    segmented_image = (im_in >= threshold_global_otsu).astype(np.uint8)\n",
    "    #segmented_image = im_in.astype(np.int32)\n",
    "    #Store as postprocessed image\n",
    "    tifffile.imsave('/media/selene/Elements/Finalprogramme/code/pytorch/sand2_results/TI_post/'+filename, segmented_image)\n",
    "print(im_in.shape)"
   ]
  },
  {
   "cell_type": "markdown",
   "metadata": {},
   "source": [
    "## Compute porosity"
   ]
  },
  {
   "cell_type": "code",
   "execution_count": 8,
   "metadata": {
    "jupyter": {
     "outputs_hidden": false
    }
   },
   "outputs": [
    {
     "name": "stdout",
     "output_type": "stream",
     "text": [
      "Counter({1: 6425472, 0: 1574528})\n",
      "Porosity of the sample:  0.196816\n"
     ]
    }
   ],
   "source": [
    "segmented_image = tifffile.imread(\"postprocessed_example.tiff\")\n",
    "porc = Counter(segmented_image.flatten())\n",
    "print(porc)\n",
    "porosity = porc[0]/float(porc[0]+porc[1])\n",
    "print \"Porosity of the sample: \", por"
   ]
  },
  {
   "cell_type": "code",
   "execution_count": 6,
   "metadata": {
    "jupyter": {
     "outputs_hidden": true
    }
   },
   "outputs": [
    {
     "name": "stdout",
     "output_type": "stream",
     "text": [
      "True\n"
     ]
    }
   ],
   "source": [
    "def bool_map(image):\n",
    "    bool_map = np.zeros(image.shape, dtype=np.bool_)\n",
    "    for row in range(image.shape[0]):\n",
    "        for col in range(image.shape[0]):\n",
    "            for hei in range(image.shape[0]):\n",
    "                if image[row, col, hei] = 1:\n",
    "                    bool_map[row, col, hei] = True\n",
    "    return bool_map"
   ]
  },
  {
   "cell_type": "code",
   "execution_count": 14,
   "metadata": {},
   "outputs": [
    {
     "data": {
      "image/png": "[encoded data removed]",
      "text/plain": [
       "<Figure size 432x288 with 1 Axes>"
      ]
     },
     "metadata": {
      "needs_background": "light"
     },
     "output_type": "display_data"
    },
    {
     "name": "stdout",
     "output_type": "stream",
     "text": [
      "<class 'stl.mesh.Mesh'>\n"
     ]
    }
   ],
   "source": [
    "# Using an existing stl file:\n",
    "#your_mesh = mesh.Mesh.from_file('some_file.stl')\n",
    "\n",
    "# Or creating a new mesh (make sure not to overwrite the `mesh` import by\n",
    "# naming it `mesh`):\n",
    "VERTICE_COUNT = 100\n",
    "data = np.zeros(VERTICE_COUNT, dtype=mesh.Mesh.dtype)\n",
    "your_mesh = mesh.Mesh(data, remove_empty_areas=False)\n",
    "\n",
    "# The mesh normals (calculated automatically)\n",
    "your_mesh.normals\n",
    "# The mesh vectors\n",
    "your_mesh.v0, your_mesh.v1, your_mesh.v2\n",
    "# Accessing individual points (concatenation of v0, v1 and v2 in triplets)\n",
    "assert (your_mesh.points[0][0:3] == your_mesh.v0[0]).all()\n",
    "assert (your_mesh.points[0][3:6] == your_mesh.v1[0]).all()\n",
    "assert (your_mesh.points[0][6:9] == your_mesh.v2[0]).all()\n",
    "assert (your_mesh.points[1][0:3] == your_mesh.v0[1]).all()\n",
    "\n",
    "your_mesh.save('new_stl_file.stl')\n",
    "\n",
    "# Create a new plot\n",
    "figure = pyplot.figure()\n",
    "axes = mplot3d.Axes3D(figure)\n",
    "\n",
    "# Load the STL files and add the vectors to the plot\n",
    "your_mesh = mesh.Mesh.from_file('new_stl_file.stl')\n",
    "axes.add_collection3d(mplot3d.art3d.Poly3DCollection(your_mesh.vectors))\n",
    "\n",
    "# Auto scale to the mesh size\n",
    "scale = your_mesh.points.flatten()\n",
    "axes.auto_scale_xyz(scale, scale, scale)\n",
    "\n",
    "# Show the plot to the screen\n",
    "pyplot.show()\n",
    "\n",
    "print(type(your_mesh))"
   ]
  },
  {
   "cell_type": "code",
   "execution_count": null,
   "metadata": {},
   "outputs": [],
   "source": []
  }
 ],
 "metadata": {
  "anaconda-cloud": {},
  "kernelspec": {
   "display_name": "Python 3",
   "language": "python",
   "name": "python3"
  },
  "language_info": {
   "codemirror_mode": {
    "name": "ipython",
    "version": 3
   },
   "file_extension": ".py",
   "mimetype": "text/x-python",
   "name": "python",
   "nbconvert_exporter": "python",
   "pygments_lexer": "ipython3",
   "version": "3.8.5"
  }
 },
 "nbformat": 4,
 "nbformat_minor": 4
}
