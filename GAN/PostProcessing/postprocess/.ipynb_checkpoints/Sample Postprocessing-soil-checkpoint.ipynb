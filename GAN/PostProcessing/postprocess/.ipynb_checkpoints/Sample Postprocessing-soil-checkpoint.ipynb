{
 "cells": [
  {
   "cell_type": "code",
   "execution_count": 1,
   "metadata": {},
   "outputs": [],
   "source": [
    "import numpy as np\n",
    "import h5py\n",
    "import tifffile\n",
    "from scipy.ndimage.filters import median_filter\n",
    "from skimage.filters import threshold_otsu\n",
    "from collections import Counter\n",
    "import os"
   ]
  },
  {
   "cell_type": "markdown",
   "metadata": {},
   "source": [
    "## Processing of a single image"
   ]
  },
  {
   "cell_type": "markdown",
   "metadata": {},
   "source": [
    "## Loading the HDF5 file and converting to tiff"
   ]
  },
  {
   "cell_type": "code",
   "execution_count": 2,
   "metadata": {
    "collapsed": false,
    "jupyter": {
     "outputs_hidden": false
    },
    "scrolled": true
   },
   "outputs": [
    {
     "name": "stdout",
     "output_type": "stream",
     "text": [
      "(64, 64, 64)\n",
      "(160, 160, 160)\n"
     ]
    },
    {
     "data": {
      "text/plain": [
       "'\\nfor filename in (sand_2):\\n    f = h5py.File(\\'/media/selene/Elements/Finalprogramme/code/pytorch/sand_2/\\'+filename, \\'r\\')\\n    my_array = f[\\'data\\'][()]\\n    #img = my_array[0, 0, :, :, :].astype(np.float32)\\n    output_filename = filename.replace(\".hdf5\",\".tif\")\\n    tifffile.imsave(\\'/media/selene/Elements/Finalprogramme/code/pytorch/sand_2_tif/\\'+output_filename, my_array)\\n    #print(\"Done converting {0} -> {1}\".format(filename, output_filename))\\nprint(my_array.shape)\\n'"
      ]
     },
     "execution_count": 2,
     "metadata": {},
     "output_type": "execute_result"
    }
   ],
   "source": [
    "fake_TI = os.listdir(\"/media/selene/Elements/Finalprogramme/code/pytorch/sand_results/fake_TI\")\n",
    "fake_samples = os.listdir(\"/media/selene/Elements/Finalprogramme/code/pytorch/sand_results/fake_samples\")\n",
    "sand_2 = os.listdir(\"/media/selene/Elements/Finalprogramme/code/pytorch/sand_2\")\n",
    "\n",
    "for filename in (fake_TI):\n",
    "    f = h5py.File('/media/selene/Elements/Finalprogramme/code/pytorch/sand_results/fake_TI/'+filename, 'r')\n",
    "    my_array = f['data'][()]\n",
    "    img = my_array[0, 0, :, :, :].astype(np.float32)\n",
    "    output_filename = filename.replace(\".hdf5\",\".tif\")\n",
    "    tifffile.imsave('/media/selene/Elements/Finalprogramme/code/pytorch/sand_results/TI_tif/'+output_filename, img)\n",
    "    #print(\"Done converting {0} -> {1}\".format(filename, output_filename))\n",
    "print(img.shape)\n",
    "\n",
    "for filename in (fake_samples):\n",
    "    f = h5py.File('/media/selene/Elements/Finalprogramme/code/pytorch/sand_results/fake_samples/'+filename, 'r')\n",
    "    my_array = f['data'][()]\n",
    "    img = my_array[0, 0, :, :, :].astype(np.float32)\n",
    "    output_filename = filename.replace(\".hdf5\",\".tif\")\n",
    "    tifffile.imsave('/media/selene/Elements/Finalprogramme/code/pytorch/sand_results/samples_tif/'+output_filename, img)\n",
    "    #print(\"Done converting {0} -> {1}\".format(filename, output_filename))\n",
    "print(img.shape)\n",
    "'''\n",
    "for filename in (sand_2):\n",
    "    f = h5py.File('/media/selene/Elements/Finalprogramme/code/pytorch/sand_2/'+filename, 'r')\n",
    "    my_array = f['data'][()]\n",
    "    #img = my_array[0, 0, :, :, :].astype(np.float32)\n",
    "    output_filename = filename.replace(\".hdf5\",\".tif\")\n",
    "    tifffile.imsave('/media/selene/Elements/Finalprogramme/code/pytorch/sand_2_tif/'+output_filename, my_array)\n",
    "    #print(\"Done converting {0} -> {1}\".format(filename, output_filename))\n",
    "print(my_array.shape)\n",
    "'''"
   ]
  },
  {
   "cell_type": "markdown",
   "metadata": {},
   "source": [
    "## Denoising and thresholding"
   ]
  },
  {
   "cell_type": "code",
   "execution_count": null,
   "metadata": {
    "collapsed": false,
    "jupyter": {
     "outputs_hidden": false
    }
   },
   "outputs": [],
   "source": [
    "samples_tif = os.listdir(\"/media/selene/Elements/Finalprogramme/code/pytorch/sand_results/samples_tif/\")\n",
    "for filename in (samples_tif):\n",
    "    im_in = tifffile.imread('/media/selene/Elements/Finalprogramme/code/pytorch/sand_results/samples_tif/'+filename)\n",
    "    #print(im_in.shape)\n",
    "    #apply single pixel denoising\n",
    "    im_in = median_filter(im_in, size=(8, 8, 8))\n",
    "    #cutaway outer noise area\n",
    "    im_in = im_in[49:113, 49:113, 49:113]\n",
    "    #Normalize to range zero and one\n",
    "    im_in = im_in/255.\n",
    "    #Threshhold Image\n",
    "    threshold_global_otsu = threshold_otsu(im_in)\n",
    "    segmented_image = (im_in >= threshold_global_otsu).astype(np.int32)\n",
    "    #Store as postprocessed image\n",
    "    tifffile.imsave('/media/selene/Elements/Finalprogramme/code/pytorch/sand_results/samples_post/'+filename, segmented_image.astype(np.int32))\n",
    "print(im_in.shape)"
   ]
  },
  {
   "cell_type": "markdown",
   "metadata": {},
   "source": [
    "## Compute porosity"
   ]
  },
  {
   "cell_type": "code",
   "execution_count": 8,
   "metadata": {
    "collapsed": false,
    "jupyter": {
     "outputs_hidden": false
    }
   },
   "outputs": [
    {
     "name": "stdout",
     "output_type": "stream",
     "text": [
      "Counter({1: 6425472, 0: 1574528})\n",
      "Porosity of the sample:  0.196816\n"
     ]
    }
   ],
   "source": [
    "segmented_image = tifffile.imread(\"postprocessed_example.tiff\")\n",
    "porc = Counter(segmented_image.flatten())\n",
    "print(porc)\n",
    "porosity = porc[0]/float(porc[0]+porc[1])\n",
    "print \"Porosity of the sample: \", por"
   ]
  },
  {
   "cell_type": "code",
   "execution_count": null,
   "metadata": {
    "collapsed": true,
    "jupyter": {
     "outputs_hidden": true
    }
   },
   "outputs": [],
   "source": []
  }
 ],
 "metadata": {
  "anaconda-cloud": {},
  "kernelspec": {
   "display_name": "Python 3",
   "language": "python",
   "name": "python3"
  },
  "language_info": {
   "codemirror_mode": {
    "name": "ipython",
    "version": 3
   },
   "file_extension": ".py",
   "mimetype": "text/x-python",
   "name": "python",
   "nbconvert_exporter": "python",
   "pygments_lexer": "ipython3",
   "version": "3.8.5"
  }
 },
 "nbformat": 4,
 "nbformat_minor": 4
}
